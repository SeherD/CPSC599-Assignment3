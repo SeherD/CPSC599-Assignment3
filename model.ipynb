{
  "cells": [
    {
      "cell_type": "markdown",
      "metadata": {
        "id": "_zPM2VXSmEqy"
      },
      "source": [
        "Count number of classes"
      ]
    },
    {
      "cell_type": "code",
      "source": [
        "from google.colab import drive\n",
        "drive.mount('/content/drive')"
      ],
      "metadata": {
        "id": "4ePDJ-XWWJ9w",
        "outputId": "8e869b43-a57e-4ee0-90ec-db450f89b992",
        "colab": {
          "base_uri": "https://localhost:8080/"
        }
      },
      "execution_count": null,
      "outputs": [
        {
          "output_type": "stream",
          "name": "stdout",
          "text": [
            "Mounted at /content/drive\n"
          ]
        }
      ]
    },
    {
      "cell_type": "code",
      "source": [
        "# unzip /content/drive/MyDrive/CPSC 599/Assignment 3 Dataset.zip\n",
        "import zipfile\n",
        "with zipfile.ZipFile('/content/drive/MyDrive/CPSC 599/Assignment 3 Dataset.zip', 'r') as zip_ref:\n",
        "    zip_ref.extractall('./')\n"
      ],
      "metadata": {
        "id": "2ijm-S7pWT-x"
      },
      "execution_count": null,
      "outputs": []
    },
    {
      "cell_type": "code",
      "execution_count": null,
      "metadata": {
        "id": "e-6O8NDWmEq2",
        "outputId": "9bdd590e-1882-4337-fd44-ba1f922b4569",
        "colab": {
          "base_uri": "https://localhost:8080/"
        }
      },
      "outputs": [
        {
          "output_type": "stream",
          "name": "stdout",
          "text": [
            "Number of unique labels: 100\n",
            "\n",
            "Number of images for each label:\n",
            "68    49\n",
            "45    47\n",
            "32    46\n",
            "84    46\n",
            "9     46\n",
            "      ..\n",
            "89    34\n",
            "15    34\n",
            "34    33\n",
            "53    30\n",
            "88    28\n",
            "Name: label, Length: 100, dtype: int64\n",
            "\n",
            "Average number of images per label: 41.35\n"
          ]
        }
      ],
      "source": [
        "import pandas as pd\n",
        "\n",
        "# Assuming your CSV file has columns 'id' and 'label'\n",
        "csv_file_path = 'train.csv'\n",
        "\n",
        "# Read the CSV file into a pandas DataFrame\n",
        "df = pd.read_csv(csv_file_path)\n",
        "\n",
        "# Count the number of images for each label\n",
        "label_counts = df['label'].value_counts()\n",
        "\n",
        "# Count the number of unique labels\n",
        "unique_labels_count = len(label_counts)\n",
        "\n",
        "# Calculate the average number of images per label\n",
        "average_images_per_label = label_counts.mean()\n",
        "\n",
        "# Display the results\n",
        "print(f\"Number of unique labels: {unique_labels_count}\")\n",
        "print(\"\\nNumber of images for each label:\")\n",
        "print(label_counts)\n",
        "print(f\"\\nAverage number of images per label: {average_images_per_label:.2f}\")\n"
      ]
    },
    {
      "cell_type": "markdown",
      "metadata": {
        "id": "WwLeyu4CmEq4"
      },
      "source": [
        "Custom Dataset Builder"
      ]
    },
    {
      "cell_type": "code",
      "execution_count": null,
      "metadata": {
        "id": "U1KHpbHymEq4"
      },
      "outputs": [],
      "source": [
        "import pandas as pd\n",
        "from torchvision import transforms\n",
        "from torch.utils.data import Dataset, DataLoader\n",
        "from PIL import Image\n",
        "from sklearn.model_selection import train_test_split\n",
        "\n",
        "class CustomDataset(Dataset):\n",
        "    def __init__(self, csv_file, root_dir, transform=None):\n",
        "        self.data_frame = pd.read_csv(csv_file)\n",
        "        self.root_dir = root_dir\n",
        "        self.transform = transform\n",
        "\n",
        "    def __len__(self):\n",
        "        return len(self.data_frame)\n",
        "\n",
        "    def __getitem__(self, idx):\n",
        "        img_name = self.data_frame.iloc[idx, 0]\n",
        "        img_path = f'{img_name}'\n",
        "        image = Image.open(img_path)\n",
        "        label = int(self.data_frame.iloc[idx, 1])\n",
        "\n",
        "        if self.transform:\n",
        "            image = self.transform(image)\n",
        "\n",
        "        return image, label\n",
        "\n",
        "# # Example usage:\n",
        "# transform = transforms.Compose([\n",
        "#     #transforms.Resize((299, 299)),  # Assuming Inception input size\n",
        "#     transforms.Resize((224, 224)),\n",
        "#     transforms.RandomHorizontalFlip(),\n",
        "#     transforms.ToTensor(),\n",
        "#     transforms.Normalize(mean=[0.485, 0.456, 0.406], std=[0.229, 0.224, 0.225]),\n",
        "# ])\n",
        "\n",
        "transform = transforms.Compose([\n",
        "    transforms.Resize((224, 224)),\n",
        "    transforms.RandomHorizontalFlip(),\n",
        "    transforms.RandomRotation(5),\n",
        "    transforms.RandomResizedCrop(224, scale=(0.8, 1.0)),\n",
        "    transforms.ColorJitter(brightness=0.2, contrast=0.2, saturation=0.2),\n",
        "    transforms.ToTensor(),\n",
        "    transforms.Normalize(mean=[0.485, 0.456, 0.406], std=[0.229, 0.224, 0.225])\n",
        "])\n",
        "\n",
        "# Load and split dataset\n",
        "full_dataset = CustomDataset(csv_file='train.csv', root_dir='', transform=transform)\n",
        "train_size = 0.8\n",
        "train_dataset, validation_dataset = train_test_split(full_dataset, train_size=train_size, random_state=42)\n",
        "\n",
        "# DataLoaders\n",
        "train_loader = DataLoader(train_dataset, batch_size=64, shuffle=True)\n",
        "validation_loader = DataLoader(validation_dataset, batch_size=64, shuffle=False)\n",
        "\n",
        "\n",
        "\n"
      ]
    },
    {
      "cell_type": "code",
      "execution_count": null,
      "metadata": {
        "id": "vgwsT_6umEq5"
      },
      "outputs": [],
      "source": [
        "import torch\n",
        "\n",
        "# Function to calculate accuracy\n",
        "def calculate_metrics(outputs, labels):\n",
        "    _, predicted = torch.max(outputs, 1)\n",
        "    correct = (predicted == labels).sum().item()\n",
        "    accuracy = correct / labels.size(0)\n",
        "\n",
        "    # Return the metric we're optimizing for\n",
        "    return accuracy"
      ]
    },
    {
      "cell_type": "markdown",
      "metadata": {
        "id": "YObUodU6mEq6"
      },
      "source": [
        "Inception Model Download"
      ]
    },
    {
      "cell_type": "code",
      "execution_count": null,
      "metadata": {
        "id": "vRpq9hFFmEq6",
        "outputId": "f42c2488-9522-4726-d021-7f4bcd7acfe4",
        "colab": {
          "base_uri": "https://localhost:8080/"
        }
      },
      "outputs": [
        {
          "output_type": "stream",
          "name": "stderr",
          "text": [
            "/usr/local/lib/python3.10/dist-packages/torchvision/models/_utils.py:208: UserWarning: The parameter 'pretrained' is deprecated since 0.13 and may be removed in the future, please use 'weights' instead.\n",
            "  warnings.warn(\n",
            "/usr/local/lib/python3.10/dist-packages/torchvision/models/_utils.py:223: UserWarning: Arguments other than a weight enum or `None` for 'weights' are deprecated since 0.13 and may be removed in the future. The current behavior is equivalent to passing `weights=Inception_V3_Weights.IMAGENET1K_V1`. You can also use `weights=Inception_V3_Weights.DEFAULT` to get the most up-to-date weights.\n",
            "  warnings.warn(msg)\n",
            "Downloading: \"https://download.pytorch.org/models/inception_v3_google-0cc3c7bd.pth\" to /root/.cache/torch/hub/checkpoints/inception_v3_google-0cc3c7bd.pth\n",
            "100%|██████████| 104M/104M [00:06<00:00, 16.2MB/s]\n"
          ]
        }
      ],
      "source": [
        "from torchvision import models\n",
        "import torch.optim as optim\n",
        "import torch.nn as nn\n",
        "import torch\n",
        "\n",
        "# Load the pre-trained Inception model\n",
        "inception_model = models.inception_v3(pretrained=True)\n",
        "\n",
        "# Modify the last classification layer\n",
        "in_features = inception_model.fc.in_features\n",
        "inception_model.fc = nn.Linear(in_features, 100)  # Assuming 100 classes\n",
        "\n",
        "# You might want to move your model to GPU if available\n",
        "device = torch.device(\"cuda\" if torch.cuda.is_available() else \"cpu\")\n",
        "inception_model = inception_model.to(device)\n"
      ]
    },
    {
      "cell_type": "markdown",
      "metadata": {
        "id": "HC8D5jd_mEq7"
      },
      "source": [
        "Inception Model"
      ]
    },
    {
      "cell_type": "code",
      "execution_count": null,
      "metadata": {
        "id": "6dG2GGn2mEq8"
      },
      "outputs": [],
      "source": [
        "import torch.optim as optim\n",
        "import torch.nn as nn\n",
        "from torch.optim.lr_scheduler import StepLR\n",
        "import torch.autograd.profiler as profiler\n",
        "\n",
        "# Choose your learning rate and weight decay parameters\n",
        "learning_rate = 0.001\n",
        "weight_decay = 1e-5\n",
        "\n",
        "# Choose the number of epochs\n",
        "num_epochs = 20\n",
        "\n",
        "criterion = nn.CrossEntropyLoss()\n",
        "optimizer = optim.Adam(inception_model.parameters(), lr=learning_rate)\n",
        "scheduler = StepLR(optimizer, step_size=5, gamma=0.1)\n",
        "\n",
        "for epoch in range(num_epochs):\n",
        "    epoch_loss = 0.0\n",
        "    epoch_accuracy = 0.0\n",
        "\n",
        "    # Enable profiler for the entire epoch\n",
        "    with profiler.profile(record_shapes=True) as prof:\n",
        "        with profiler.record_function(\"train_epoch\"):\n",
        "            for inputs, labels in train_loader:\n",
        "                inputs, labels = inputs.to(device), labels.to(device)\n",
        "\n",
        "                optimizer.zero_grad()\n",
        "                outputs, aux_outputs = inception_model(inputs)\n",
        "                loss = criterion(outputs, labels)\n",
        "                loss.backward()\n",
        "                optimizer.step()\n",
        "                scheduler.step()\n",
        "\n",
        "                # Update metrics\n",
        "                epoch_loss += loss.item()\n",
        "                epoch_accuracy += calculate_metrics(outputs, labels)\n",
        "\n",
        "    # Print and save metrics after each epoch\n",
        "    print(f'Epoch {epoch+1}/{num_epochs}, Learning Rate: {scheduler.get_last_lr()}')\n",
        "    print(f'  Loss: {epoch_loss / len(train_loader)}')\n",
        "    print(f'  Training Accuracy: {epoch_accuracy / len(train_loader)}')\n",
        "\n",
        "    # Save model parameters\n",
        "    torch.save(inception_model.state_dict(), f'model_epoch_{epoch + 1}.pth')\n",
        "\n",
        "# Use the profiler results\n",
        "print(prof.key_averages().table(sort_by=\"cpu_time_total\", row_limit=10))\n"
      ]
    },
    {
      "cell_type": "markdown",
      "metadata": {
        "id": "xNDi7ZfFmEq8"
      },
      "source": [
        "Resnet Model"
      ]
    },
    {
      "cell_type": "code",
      "execution_count": null,
      "metadata": {
        "id": "sxJl4YaDmEq9",
        "outputId": "372a830a-4c62-4cd5-ce99-83caa3ea26ad",
        "colab": {
          "base_uri": "https://localhost:8080/"
        }
      },
      "outputs": [
        {
          "output_type": "stream",
          "name": "stdout",
          "text": [
            "Epoch 1/20, Training Loss: 4.015895710541652, Validation Loss: 3.656312007170457\n",
            "Epoch 2/20, Training Loss: 2.216773120256571, Validation Loss: 2.6621320797846866\n",
            "Epoch 3/20, Training Loss: 1.011869883308044, Validation Loss: 2.3262189076497006\n",
            "Epoch 4/20, Training Loss: 0.3608705375630122, Validation Loss: 2.0284662521802463\n",
            "Epoch 5/20, Training Loss: 0.11998395836697175, Validation Loss: 1.6336029034394484\n",
            "Epoch 6/20, Training Loss: 0.03672697079869417, Validation Loss: 1.3854215695307806\n",
            "Epoch 7/20, Training Loss: 0.013806459090958994, Validation Loss: 1.2854520907768836\n",
            "Epoch 8/20, Training Loss: 0.005279537724653402, Validation Loss: 1.2576018846951997\n",
            "Epoch 9/20, Training Loss: 0.004715515381226746, Validation Loss: 1.2594513572179353\n",
            "Epoch 10/20, Training Loss: 0.004577144004332905, Validation Loss: 1.2526510724654565\n",
            "Epoch 11/20, Training Loss: 0.004206859273836017, Validation Loss: 1.2456609698442311\n",
            "Epoch 12/20, Training Loss: 0.003923040335603918, Validation Loss: 1.2329680827947764\n",
            "Epoch 13/20, Training Loss: 0.0036690343717614617, Validation Loss: 1.2368563734568083\n",
            "Epoch 14/20, Training Loss: 0.003628622552451606, Validation Loss: 1.222936919102302\n",
            "Epoch 15/20, Training Loss: 0.003426768714024757, Validation Loss: 1.231060802936554\n",
            "Epoch 16/20, Training Loss: 0.0034143600586013724, Validation Loss: 1.230428228011498\n",
            "Epoch 17/20, Training Loss: 0.003437891445803241, Validation Loss: 1.234190230186169\n",
            "Epoch 18/20, Training Loss: 0.0033942389194495403, Validation Loss: 1.2294488411683302\n",
            "Early stopping triggered\n"
          ]
        }
      ],
      "source": [
        "from torchvision import datasets, transforms, models\n",
        "from torchvision.models import ResNet18_Weights, resnet18\n",
        "import torch\n",
        "import torch.nn as nn\n",
        "import torch.optim as optim\n",
        "from torch.utils.data import DataLoader\n",
        "\n",
        "# Load pre-trained ResNet model\n",
        "weights = ResNet18_Weights.IMAGENET1K_V1\n",
        "resnet = resnet18(weights=weights)\n",
        "\n",
        "# Modify the final fully connected layer\n",
        "num_classes = 100\n",
        "resnet.fc = nn.Linear(resnet.fc.in_features, num_classes)\n",
        "\n",
        "# Set device (GPU if available, otherwise CPU)\n",
        "device = torch.device(\"cuda:0\" if torch.cuda.is_available() else \"cpu\")\n",
        "resnet.to(device)\n",
        "\n",
        "# Define loss function and optimizer\n",
        "criterion = nn.CrossEntropyLoss()\n",
        "optimizer = optim.Adam(resnet.parameters(), lr=0.001)\n",
        "scheduler = torch.optim.lr_scheduler.StepLR(optimizer, step_size=7, gamma=0.1)\n",
        "\n",
        "# Training loop with early stopping and learning rate scheduler\n",
        "num_epochs = 20\n",
        "best_val_loss = float('inf')\n",
        "early_stopping_patience = 5\n",
        "early_stopping_counter = 0\n",
        "\n",
        "for epoch in range(num_epochs):\n",
        "    resnet.train()\n",
        "    running_loss = 0.0\n",
        "    for inputs, labels in train_loader:\n",
        "        inputs, labels = inputs.to(device), labels.to(device)\n",
        "\n",
        "        optimizer.zero_grad()\n",
        "        outputs = resnet(inputs)\n",
        "        loss = criterion(outputs, labels)\n",
        "        loss.backward()\n",
        "        optimizer.step()\n",
        "\n",
        "        running_loss += loss.item()\n",
        "\n",
        "    scheduler.step()\n",
        "\n",
        "    # Validation phase\n",
        "    resnet.eval()\n",
        "    val_loss = 0.0\n",
        "    with torch.no_grad():\n",
        "        for inputs, labels in validation_loader:\n",
        "            inputs, labels = inputs.to(device), labels.to(device)\n",
        "            outputs = resnet(inputs)\n",
        "            loss = criterion(outputs, labels)\n",
        "            val_loss += loss.item()\n",
        "\n",
        "     # Save model after each epoch\n",
        "    torch.save(resnet.state_dict(), f'resnet18_epoch_{epoch+1}.pth')\n",
        "\n",
        "    # Check for improvement and early stopping\n",
        "    if val_loss < best_val_loss:\n",
        "        best_val_loss = val_loss\n",
        "        early_stopping_counter = 0\n",
        "        torch.save(resnet.state_dict(), 'best_resnet18.pth')\n",
        "    else:\n",
        "        early_stopping_counter += 1\n",
        "        if early_stopping_counter >= early_stopping_patience:\n",
        "            print(\"Early stopping triggered\")\n",
        "            break\n",
        "\n",
        "    print(f\"Epoch {epoch+1}/{num_epochs}, Training Loss: {running_loss/len(train_loader)}, Validation Loss: {val_loss/len(validation_loader)}\")"
      ]
    },
    {
      "cell_type": "markdown",
      "metadata": {
        "id": "kZAL9RyWmEq9"
      },
      "source": [
        "Test Dataset"
      ]
    },
    {
      "cell_type": "code",
      "execution_count": null,
      "metadata": {
        "id": "B98gjppLmEq9"
      },
      "outputs": [],
      "source": [
        "from torch.utils.data import Dataset\n",
        "from torchvision import transforms\n",
        "from PIL import Image\n",
        "import os, csv\n",
        "\n",
        "\n",
        "class TestDataset(Dataset):\n",
        "    def __init__(self, root_dir, transform=None):\n",
        "        self.root_dir = root_dir\n",
        "        self.transform = transform\n",
        "        self.image_paths = [\n",
        "            os.path.join(root_dir, img_name) for img_name in os.listdir(root_dir)\n",
        "        ]\n",
        "\n",
        "    def __len__(self):\n",
        "        return len(self.image_paths)\n",
        "\n",
        "    def __getitem__(self, idx):\n",
        "        img_path = self.image_paths[idx]\n",
        "        image = Image.open(img_path)\n",
        "\n",
        "        if self.transform:\n",
        "            image = self.transform(image)\n",
        "\n",
        "        return img_path, image\n",
        "\n",
        "\n",
        "transform = transforms.Compose(\n",
        "    [\n",
        "        # transforms.Resize((299, 299)),  # Assuming Inception input size\n",
        "        transforms.Resize((224, 224)),\n",
        "        transforms.ToTensor(),\n",
        "    ]\n",
        ")\n",
        "\n"
      ]
    },
    {
      "cell_type": "markdown",
      "metadata": {
        "id": "v9ndrYpCmEq-"
      },
      "source": [
        "Inference"
      ]
    },
    {
      "cell_type": "code",
      "execution_count": null,
      "metadata": {
        "id": "GRo-ZAP0mEq-",
        "outputId": "b9afafb2-964a-4ef2-e053-bbb90997a41c",
        "colab": {
          "base_uri": "https://localhost:8080/"
        }
      },
      "outputs": [
        {
          "output_type": "stream",
          "name": "stderr",
          "text": [
            "/usr/local/lib/python3.10/dist-packages/torchvision/models/_utils.py:208: UserWarning: The parameter 'pretrained' is deprecated since 0.13 and may be removed in the future, please use 'weights' instead.\n",
            "  warnings.warn(\n",
            "/usr/local/lib/python3.10/dist-packages/torchvision/models/_utils.py:223: UserWarning: Arguments other than a weight enum or `None` for 'weights' are deprecated since 0.13 and may be removed in the future. The current behavior is equivalent to passing `weights=None`.\n",
            "  warnings.warn(msg)\n"
          ]
        },
        {
          "output_type": "stream",
          "name": "stdout",
          "text": [
            "starting eval\n",
            "performing inference\n",
            "Predictions saved to predictions.csv\n"
          ]
        }
      ],
      "source": [
        "from torchvision import datasets, transforms, models\n",
        "import torch\n",
        "import torch.nn as nn\n",
        "from torch.utils.data import DataLoader\n",
        "from PIL import Image\n",
        "import os, csv\n",
        "\n",
        "# Define the number of classes\n",
        "num_classes = 100\n",
        "fourth_epoch_path=\"resnet_epoch_4.pth\"\n",
        "final_model_path=\"best_resnet18.pth\"\n",
        "# Load the saved state_dict\n",
        "saved_state_dict = torch.load(final_model_path)\n",
        "\n",
        "# Create a new ResNet model for testing with the correct number of classes\n",
        "resnet_test = models.resnet18(pretrained=False)\n",
        "resnet_test.fc = nn.Linear(resnet_test.fc.in_features, num_classes)\n",
        "\n",
        "# Load the state_dict into the new testing model\n",
        "resnet_test.load_state_dict(saved_state_dict)\n",
        "\n",
        "# Set the model to evaluation mode\n",
        "resnet_test.eval()\n",
        "print(\"starting eval\")\n",
        "# Set device (GPU if available, otherwise CPU)\n",
        "device = torch.device(\"cuda:0\" if torch.cuda.is_available() else \"cpu\")\n",
        "resnet_test.to(device)\n",
        "\n",
        "# Define the transform for testing images\n",
        "transform = transforms.Compose([\n",
        "    transforms.Resize((224, 224)),\n",
        "    transforms.ToTensor(),\n",
        "])\n",
        "\n",
        "# Create the test dataset and data loader\n",
        "test_dataset = TestDataset(root_dir=\"test\", transform=transform)\n",
        "test_loader = DataLoader(test_dataset, batch_size=32, shuffle=False)\n",
        "\n",
        "predictions = []\n",
        "print(\"performing inference\")\n",
        "# Perform inference\n",
        "with torch.no_grad():\n",
        "    for img_path, inputs in test_loader:\n",
        "        inputs = inputs.to(device)\n",
        "\n",
        "        # Forward pass\n",
        "        outputs = resnet_test(inputs)\n",
        "\n",
        "        # Get predicted labels\n",
        "        _, predicted = torch.max(outputs, 1)\n",
        "\n",
        "        # Store predictions\n",
        "        for path, label in zip(img_path, predicted.cpu().numpy()):\n",
        "            predictions.append({\"id\": path.replace(\"\\\\\",\"/\"), \"Predicted\": label})\n",
        "\n",
        "# Save predictions to a CSV file\n",
        "csv_file = \"predictions.csv\"\n",
        "with open(csv_file, \"w\", newline=\"\") as csvfile:\n",
        "    fieldnames = [\"id\", \"Predicted\"]\n",
        "    writer = csv.DictWriter(csvfile, fieldnames=fieldnames)\n",
        "\n",
        "    writer.writeheader()\n",
        "    for prediction in predictions:\n",
        "        writer.writerow(prediction)\n",
        "\n",
        "print(f\"Predictions saved to {csv_file}\")\n"
      ]
    }
  ],
  "metadata": {
    "kernelspec": {
      "display_name": "Python 3",
      "language": "python",
      "name": "python3"
    },
    "language_info": {
      "codemirror_mode": {
        "name": "ipython",
        "version": 3
      },
      "file_extension": ".py",
      "mimetype": "text/x-python",
      "name": "python",
      "nbconvert_exporter": "python",
      "pygments_lexer": "ipython3",
      "version": "3.10.11"
    },
    "colab": {
      "provenance": [],
      "machine_shape": "hm"
    }
  },
  "nbformat": 4,
  "nbformat_minor": 0
}