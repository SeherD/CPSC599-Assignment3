{
 "cells": [
  {
   "cell_type": "code",
   "execution_count": 5,
   "metadata": {},
   "outputs": [
    {
     "name": "stdout",
     "output_type": "stream",
     "text": [
      "Number of unique labels: 100\n",
      "\n",
      "Number of images for each label:\n",
      "68    49\n",
      "45    47\n",
      "32    46\n",
      "84    46\n",
      "9     46\n",
      "      ..\n",
      "89    34\n",
      "15    34\n",
      "34    33\n",
      "53    30\n",
      "88    28\n",
      "Name: label, Length: 100, dtype: int64\n",
      "\n",
      "Average number of images per label: 41.35\n"
     ]
    }
   ],
   "source": [
    "import pandas as pd\n",
    "\n",
    "# Assuming your CSV file has columns 'id' and 'label'\n",
    "csv_file_path = 'train.csv'\n",
    "\n",
    "# Read the CSV file into a pandas DataFrame\n",
    "df = pd.read_csv(csv_file_path)\n",
    "\n",
    "# Count the number of images for each label\n",
    "label_counts = df['label'].value_counts()\n",
    "\n",
    "# Count the number of unique labels\n",
    "unique_labels_count = len(label_counts)\n",
    "\n",
    "# Calculate the average number of images per label\n",
    "average_images_per_label = label_counts.mean()\n",
    "\n",
    "# Display the results\n",
    "print(f\"Number of unique labels: {unique_labels_count}\")\n",
    "print(\"\\nNumber of images for each label:\")\n",
    "print(label_counts)\n",
    "print(f\"\\nAverage number of images per label: {average_images_per_label:.2f}\")\n"
   ]
  }
 ],
 "metadata": {
  "kernelspec": {
   "display_name": "Python 3",
   "language": "python",
   "name": "python3"
  },
  "language_info": {
   "codemirror_mode": {
    "name": "ipython",
    "version": 3
   },
   "file_extension": ".py",
   "mimetype": "text/x-python",
   "name": "python",
   "nbconvert_exporter": "python",
   "pygments_lexer": "ipython3",
   "version": "3.10.11"
  }
 },
 "nbformat": 4,
 "nbformat_minor": 2
}
